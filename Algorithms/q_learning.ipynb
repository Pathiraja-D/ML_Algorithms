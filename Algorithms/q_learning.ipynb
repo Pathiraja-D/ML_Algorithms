{
 "cells": [
  {
   "cell_type": "code",
   "execution_count": 1,
   "metadata": {},
   "outputs": [],
   "source": [
    "import numpy as np"
   ]
  },
  {
   "cell_type": "code",
   "execution_count": 2,
   "metadata": {},
   "outputs": [],
   "source": [
    "location_to_state = {\n",
    "    'L1': 0,\n",
    "    'L2': 1,\n",
    "    'L3': 2,\n",
    "    'L4': 3,\n",
    "    'L5': 4,\n",
    "    'L6': 5,\n",
    "    'L7': 6,\n",
    "    'L8': 7,\n",
    "    'L9': 8\n",
    "}"
   ]
  },
  {
   "cell_type": "code",
   "execution_count": 3,
   "metadata": {},
   "outputs": [],
   "source": [
    "#define the actions\n",
    "actions = [0,1,2,3,4,5,6,7,8]"
   ]
  },
  {
   "cell_type": "code",
   "execution_count": 4,
   "metadata": {},
   "outputs": [],
   "source": [
    "rewards = np.array([[0,0,0,0,1,0,0,0,0],[1,0,1,0,0,0,0,0,0],[0,0,0,0,1,0,1,0,0],[0,0,1,0,0,0,0,0,0],[0,0,0,0,0,0,1,0,0],[0,1,0,0,0,0,0,0,0],[0,0,0,1,0,1,0,0,1],[0,0,0,0,0,0,0,0,1],[0,0,1,0,0,0,0,0,0]])"
   ]
  },
  {
   "cell_type": "code",
   "execution_count": 5,
   "metadata": {},
   "outputs": [],
   "source": [
    "state_to_location = dict((state,location) for location,state in location_to_state.items())\n",
    "#initializing parameters\n",
    "gamma = 0.75 #discount factor\n",
    "alpha = 0.9 #learning rate"
   ]
  },
  {
   "cell_type": "code",
   "execution_count": 6,
   "metadata": {},
   "outputs": [],
   "source": [
    "class QAgent:\n",
    "    def __init__(self,alpha,gamma,location_to_state,rewards,actions,state_to_location):\n",
    "        self.gamma = gamma\n",
    "        self.alpha = alpha\n",
    "        self.location_to_state = location_to_state\n",
    "        self.rewards = rewards\n",
    "        self.actions = actions\n",
    "        self.state_to_location = state_to_location\n",
    "        M = len(location_to_state)\n",
    "        self.Q = np.array(np.zeros([M,M],dtype = int,order='C'))\n",
    "\n",
    "    def training(self,start_location,end_location,iterations):\n",
    "        rewards_new = np.copy(self.rewards)\n",
    "        ending_state = self.location_to_state[end_location]\n",
    "        rewards_new[ending_state,ending_state] = 999\n",
    "\n",
    "        #picking a random current state\n",
    "        for i in range(iterations):\n",
    "            current_state = np.random.randint(0,len(self.location_to_state))\n",
    "            playable_actions = []\n",
    "            \n",
    "            \n",
    "            for j in range(len(self.location_to_state)):\n",
    "                if rewards_new[current_state,j] > 0:\n",
    "                    playable_actions.append(j)\n",
    "\n",
    "            next_state = np.random.choice(playable_actions)\n",
    "\n",
    "            TD = rewards_new[current_state,next_state] + self.gamma * self.Q[next_state,np.argmax(self.Q[next_state,])] - self.Q[current_state,next_state]\n",
    "            self.Q[current_state,next_state] += self.alpha * TD\n",
    "\n",
    "        route = [start_location]\n",
    "        next_location = start_location\n",
    "\n",
    "        self.get_optimal_route(start_location,end_location,next_location,route)\n",
    "\n",
    "    def get_optimal_route(self,start_location,end_location,next_location,route):\n",
    "        while(next_location != end_location):\n",
    "            starting_state = self.location_to_state[start_location]\n",
    "            next_state = np.argmax(self.Q[starting_state,])\n",
    "            next_location = self.state_to_location[next_state]\n",
    "            route.append(next_location)\n",
    "            start_location = next_location\n",
    "        print(route)\n",
    "\n",
    "        "
   ]
  },
  {
   "cell_type": "code",
   "execution_count": 7,
   "metadata": {},
   "outputs": [
    {
     "name": "stdout",
     "output_type": "stream",
     "text": [
      "['L9', 'L3', 'L7', 'L6', 'L2', 'L1']\n"
     ]
    }
   ],
   "source": [
    "qagent = QAgent(alpha,gamma,location_to_state,rewards,actions,state_to_location)\n",
    "qagent.training('L9','L1',1000)"
   ]
  },
  {
   "cell_type": "code",
   "execution_count": null,
   "metadata": {},
   "outputs": [],
   "source": []
  }
 ],
 "metadata": {
  "kernelspec": {
   "display_name": "Python 3",
   "language": "python",
   "name": "python3"
  },
  "language_info": {
   "codemirror_mode": {
    "name": "ipython",
    "version": 3
   },
   "file_extension": ".py",
   "mimetype": "text/x-python",
   "name": "python",
   "nbconvert_exporter": "python",
   "pygments_lexer": "ipython3",
   "version": "3.11.5"
  }
 },
 "nbformat": 4,
 "nbformat_minor": 2
}
